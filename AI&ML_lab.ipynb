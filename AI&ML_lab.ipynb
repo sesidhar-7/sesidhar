{
  "nbformat": 4,
  "nbformat_minor": 0,
  "metadata": {
    "colab": {
      "provenance": [],
      "mount_file_id": "https://github.com/sesidhar-7/sesidhar/blob/main/AI%26ML_lab.ipynb",
      "authorship_tag": "ABX9TyOpgFp44D2+6Q9QjXdtJ9jq",
      "include_colab_link": true
    },
    "kernelspec": {
      "name": "python3",
      "display_name": "Python 3"
    },
    "language_info": {
      "name": "python"
    }
  },
  "cells": [
    {
      "cell_type": "markdown",
      "metadata": {
        "id": "view-in-github",
        "colab_type": "text"
      },
      "source": [
        "<a href=\"https://colab.research.google.com/github/sesidhar-7/sesidhar/blob/main/AI%26ML_lab.ipynb\" target=\"_parent\"><img src=\"https://colab.research.google.com/assets/colab-badge.svg\" alt=\"Open In Colab\"/></a>"
      ]
    },
    {
      "cell_type": "code",
      "execution_count": 3,
      "metadata": {
        "colab": {
          "base_uri": "https://localhost:8080/"
        },
        "id": "mV160U8cG1sz",
        "outputId": "23f3805a-dc33-49f4-92b4-f86c0020ba1a"
      },
      "outputs": [
        {
          "output_type": "stream",
          "name": "stdout",
          "text": [
            "   PassengerId  Survived  Pclass  \\\n",
            "0            1         0       3   \n",
            "1            2         1       1   \n",
            "2            3         1       3   \n",
            "3            4         1       1   \n",
            "4            5         0       3   \n",
            "\n",
            "                                                Name     Sex   Age  SibSp  \\\n",
            "0                            Braund, Mr. Owen Harris    male  22.0      1   \n",
            "1  Cumings, Mrs. John Bradley (Florence Briggs Th...  female  38.0      1   \n",
            "2                             Heikkinen, Miss. Laina  female  26.0      0   \n",
            "3       Futrelle, Mrs. Jacques Heath (Lily May Peel)  female  35.0      1   \n",
            "4                           Allen, Mr. William Henry    male  35.0      0   \n",
            "\n",
            "   Parch            Ticket     Fare Cabin Embarked  \n",
            "0      0         A/5 21171   7.2500   NaN        S  \n",
            "1      0          PC 17599  71.2833   C85        C  \n",
            "2      0  STON/O2. 3101282   7.9250   NaN        S  \n",
            "3      0            113803  53.1000  C123        S  \n",
            "4      0            373450   8.0500   NaN        S  \n"
          ]
        }
      ],
      "source": [
        "# importing all the necessary libraries\n",
        "import pandas as pd\n",
        "import numpy as np\n",
        "#we need to read the data\n",
        "data = pd.read_csv(\"/content/drive/MyDrive/train.csv\")\n",
        "#print top 5 rows\n",
        "print(data.head())"
      ]
    },
    {
      "cell_type": "code",
      "source": [
        "# function to calculate the lower and upperbound\n",
        "def detect_outliers(data,threshold):\n",
        "  mean = np.mean(data)\n",
        "  std =np.std(data)\n",
        "  lb = max(mean - (threshold * std),min(data))\n",
        "  ub = min(mean + (threshold * std),max(data))\n",
        "  return lb,ub\n",
        "df = data.copy()\n",
        "lb,ub = detect_outliers(data[\"Fare\"],4)\n",
        "# removing the rows which are greater than upperbound\n",
        "df.drop(df[df.Fare > ub].index, inplace=True)\n",
        "# removing the rows which are less than lowerbound\n",
        "df.drop(df[df.Fare < lb ].index, inplace=True)\n",
        "print(\"lb: \",lb,\"ub: \",ub)\n",
        "df.sort_values(by=\"Fare\",ascending=True,inplace=True)"
      ],
      "metadata": {
        "id": "SiNtA25eW51n",
        "outputId": "0f19ed0b-bf8e-411c-b1f9-3b81245ae8ca",
        "colab": {
          "base_uri": "https://localhost:8080/"
        }
      },
      "execution_count": 4,
      "outputs": [
        {
          "output_type": "stream",
          "name": "stdout",
          "text": [
            "lb:  0.0 ub:  230.86634574767106\n"
          ]
        }
      ]
    },
    {
      "cell_type": "code",
      "source": [
        "print(df)"
      ],
      "metadata": {
        "id": "NWz-cE5rXPad",
        "outputId": "b6e45b18-a907-4f64-b32e-c7d54201cee3",
        "colab": {
          "base_uri": "https://localhost:8080/"
        }
      },
      "execution_count": 5,
      "outputs": [
        {
          "output_type": "stream",
          "name": "stdout",
          "text": [
            "     PassengerId  Survived  Pclass  \\\n",
            "271          272         1       3   \n",
            "597          598         0       3   \n",
            "302          303         0       3   \n",
            "633          634         0       1   \n",
            "277          278         0       2   \n",
            "..           ...       ...     ...   \n",
            "527          528         0       1   \n",
            "716          717         1       1   \n",
            "380          381         1       1   \n",
            "557          558         0       1   \n",
            "700          701         1       1   \n",
            "\n",
            "                                                  Name     Sex   Age  SibSp  \\\n",
            "271                       Tornquist, Mr. William Henry    male  25.0      0   \n",
            "597                                Johnson, Mr. Alfred    male  49.0      0   \n",
            "302                    Johnson, Mr. William Cahoone Jr    male  19.0      0   \n",
            "633                      Parr, Mr. William Henry Marsh    male   NaN      0   \n",
            "277                        Parkes, Mr. Francis \"Frank\"    male   NaN      0   \n",
            "..                                                 ...     ...   ...    ...   \n",
            "527                                 Farthing, Mr. John    male   NaN      0   \n",
            "716                      Endres, Miss. Caroline Louise  female  38.0      0   \n",
            "380                              Bidois, Miss. Rosalie  female  42.0      0   \n",
            "557                                Robbins, Mr. Victor    male   NaN      0   \n",
            "700  Astor, Mrs. John Jacob (Madeleine Talmadge Force)  female  18.0      1   \n",
            "\n",
            "     Parch    Ticket      Fare    Cabin Embarked  \n",
            "271      0      LINE    0.0000      NaN        S  \n",
            "597      0      LINE    0.0000      NaN        S  \n",
            "302      0      LINE    0.0000      NaN        S  \n",
            "633      0    112052    0.0000      NaN        S  \n",
            "277      0    239853    0.0000      NaN        S  \n",
            "..     ...       ...       ...      ...      ...  \n",
            "527      0  PC 17483  221.7792      C95        S  \n",
            "716      0  PC 17757  227.5250      C45        C  \n",
            "380      0  PC 17757  227.5250      NaN        C  \n",
            "557      0  PC 17757  227.5250      NaN        C  \n",
            "700      0  PC 17757  227.5250  C62 C64        C  \n",
            "\n",
            "[880 rows x 12 columns]\n"
          ]
        }
      ]
    },
    {
      "cell_type": "code",
      "source": [
        "lb,ub = detect_outliers(data[\"Age\"],5)\n",
        "# removing the rows which are greater than upperbound\n",
        "df.drop(df[df.Age > ub].index, inplace=True)\n",
        "# removing the rows which are less than lowerbound\n",
        "df.drop(df[df.Age < lb].index, inplace=True)\n",
        "print(\"lb: \",lb,\"ub: \",ub)\n",
        "df.sort_values(by=\"Age\",ascending=False,inplace=True)"
      ],
      "metadata": {
        "id": "aHZk2IH0XQee",
        "outputId": "f30b387d-9064-47ec-abc7-3ffa1d9c97a6",
        "colab": {
          "base_uri": "https://localhost:8080/"
        }
      },
      "execution_count": 6,
      "outputs": [
        {
          "output_type": "stream",
          "name": "stdout",
          "text": [
            "lb:  0.42 ub:  80.0\n"
          ]
        }
      ]
    },
    {
      "cell_type": "code",
      "source": [
        "print(df)"
      ],
      "metadata": {
        "id": "6TN4lO66XVG4",
        "outputId": "ffc39cdf-63a0-478e-8d33-42f0c951fdb5",
        "colab": {
          "base_uri": "https://localhost:8080/"
        }
      },
      "execution_count": 7,
      "outputs": [
        {
          "output_type": "stream",
          "name": "stdout",
          "text": [
            "     PassengerId  Survived  Pclass  \\\n",
            "630          631         1       1   \n",
            "851          852         0       3   \n",
            "96            97         0       1   \n",
            "493          494         0       1   \n",
            "116          117         0       3   \n",
            "..           ...       ...     ...   \n",
            "306          307         1       1   \n",
            "334          335         1       1   \n",
            "31            32         1       1   \n",
            "527          528         0       1   \n",
            "557          558         0       1   \n",
            "\n",
            "                                                  Name     Sex   Age  SibSp  \\\n",
            "630               Barkworth, Mr. Algernon Henry Wilson    male  80.0      0   \n",
            "851                                Svensson, Mr. Johan    male  74.0      0   \n",
            "96                           Goldschmidt, Mr. George B    male  71.0      0   \n",
            "493                            Artagaveytia, Mr. Ramon    male  71.0      0   \n",
            "116                               Connors, Mr. Patrick    male  70.5      0   \n",
            "..                                                 ...     ...   ...    ...   \n",
            "306                            Fleming, Miss. Margaret  female   NaN      0   \n",
            "334  Frauenthal, Mrs. Henry William (Clara Heinshei...  female   NaN      1   \n",
            "31      Spencer, Mrs. William Augustus (Marie Eugenie)  female   NaN      1   \n",
            "527                                 Farthing, Mr. John    male   NaN      0   \n",
            "557                                Robbins, Mr. Victor    male   NaN      0   \n",
            "\n",
            "     Parch    Ticket      Fare Cabin Embarked  \n",
            "630      0     27042   30.0000   A23        S  \n",
            "851      0    347060    7.7750   NaN        S  \n",
            "96       0  PC 17754   34.6542    A5        C  \n",
            "493      0  PC 17609   49.5042   NaN        C  \n",
            "116      0    370369    7.7500   NaN        Q  \n",
            "..     ...       ...       ...   ...      ...  \n",
            "306      0     17421  110.8833   NaN        C  \n",
            "334      0  PC 17611  133.6500   NaN        S  \n",
            "31       0  PC 17569  146.5208   B78        C  \n",
            "527      0  PC 17483  221.7792   C95        S  \n",
            "557      0  PC 17757  227.5250   NaN        C  \n",
            "\n",
            "[880 rows x 12 columns]\n"
          ]
        }
      ]
    },
    {
      "cell_type": "code",
      "source": [
        "#printing the missing value percentage for every column\n",
        "df.isnull().mean() * 100"
      ],
      "metadata": {
        "id": "BcZ8YMCpXYse",
        "outputId": "98fd3128-01b1-4f98-b143-ada402ba9e0f",
        "colab": {
          "base_uri": "https://localhost:8080/"
        }
      },
      "execution_count": 8,
      "outputs": [
        {
          "output_type": "execute_result",
          "data": {
            "text/plain": [
              "PassengerId     0.000000\n",
              "Survived        0.000000\n",
              "Pclass          0.000000\n",
              "Name            0.000000\n",
              "Sex             0.000000\n",
              "Age            20.113636\n",
              "SibSp           0.000000\n",
              "Parch           0.000000\n",
              "Ticket          0.000000\n",
              "Fare            0.000000\n",
              "Cabin          77.954545\n",
              "Embarked        0.227273\n",
              "dtype: float64"
            ]
          },
          "metadata": {},
          "execution_count": 8
        }
      ]
    },
    {
      "cell_type": "code",
      "source": [
        "# get all the column names in our dataset\n",
        "df.columns"
      ],
      "metadata": {
        "id": "GPan_9qaXcwQ",
        "outputId": "50da6b91-0f9f-4b17-c40e-d4d0de4c8509",
        "colab": {
          "base_uri": "https://localhost:8080/"
        }
      },
      "execution_count": 9,
      "outputs": [
        {
          "output_type": "execute_result",
          "data": {
            "text/plain": [
              "Index(['PassengerId', 'Survived', 'Pclass', 'Name', 'Sex', 'Age', 'SibSp',\n",
              "       'Parch', 'Ticket', 'Fare', 'Cabin', 'Embarked'],\n",
              "      dtype='object')"
            ]
          },
          "metadata": {},
          "execution_count": 9
        }
      ]
    },
    {
      "cell_type": "code",
      "source": [
        "# As we can see cabin column has more than 30% of missing values, so we have to drop that column\n",
        "df.drop(['Cabin'],inplace=True,axis=1)\n",
        "# after removing the column cabin, printing the columns again. If you observe there is no Cabin in the output\n",
        "df.columns"
      ],
      "metadata": {
        "id": "kt-27rM7Xg2o",
        "outputId": "fc7f4868-276a-45eb-eac1-454550fc7228",
        "colab": {
          "base_uri": "https://localhost:8080/"
        }
      },
      "execution_count": 10,
      "outputs": [
        {
          "output_type": "execute_result",
          "data": {
            "text/plain": [
              "Index(['PassengerId', 'Survived', 'Pclass', 'Name', 'Sex', 'Age', 'SibSp',\n",
              "       'Parch', 'Ticket', 'Fare', 'Embarked'],\n",
              "      dtype='object')"
            ]
          },
          "metadata": {},
          "execution_count": 10
        }
      ]
    },
    {
      "cell_type": "code",
      "source": [
        "#printing the percentage of missing values in Age before handling\n",
        "df['Age'].isnull().mean() * 100\n"
      ],
      "metadata": {
        "id": "-ldLq7yfXkvW",
        "outputId": "6a2ffd99-a50e-401f-ff33-cec6cad21a6d",
        "colab": {
          "base_uri": "https://localhost:8080/"
        }
      },
      "execution_count": 11,
      "outputs": [
        {
          "output_type": "execute_result",
          "data": {
            "text/plain": [
              "20.113636363636363"
            ]
          },
          "metadata": {},
          "execution_count": 11
        }
      ]
    },
    {
      "cell_type": "code",
      "source": [
        "# Filling the missing values with the mean of respective column\n",
        "df['Age']=df['Age'].fillna(df['Age'].mean())"
      ],
      "metadata": {
        "id": "28IiUHMrXn6l"
      },
      "execution_count": 12,
      "outputs": []
    },
    {
      "cell_type": "code",
      "source": [
        "#printing the percentage of missing values in Age after handling\n",
        "df['Age'].isnull().mean() * 100"
      ],
      "metadata": {
        "id": "xP2qr70TXr3X",
        "outputId": "3764c654-b98b-42cb-92f9-3cf90d48f14b",
        "colab": {
          "base_uri": "https://localhost:8080/"
        }
      },
      "execution_count": 13,
      "outputs": [
        {
          "output_type": "execute_result",
          "data": {
            "text/plain": [
              "0.0"
            ]
          },
          "metadata": {},
          "execution_count": 13
        }
      ]
    },
    {
      "cell_type": "code",
      "source": [
        "#printing the percentage of missing values in Embarked before handling\n",
        "df['Embarked'].isnull().mean() * 100"
      ],
      "metadata": {
        "id": "LVl65_ouXufJ",
        "outputId": "10adc785-e622-4afc-90e0-6b2a8681f61f",
        "colab": {
          "base_uri": "https://localhost:8080/"
        }
      },
      "execution_count": 14,
      "outputs": [
        {
          "output_type": "execute_result",
          "data": {
            "text/plain": [
              "0.22727272727272727"
            ]
          },
          "metadata": {},
          "execution_count": 14
        }
      ]
    },
    {
      "cell_type": "code",
      "source": [
        "# filling with filled with the most frequently occurring value.\n",
        "df[\"Embarked\"].fillna(df['Embarked'].mode()[0],inplace=True)\n",
        "#printing the percentage of missing values in Embarked after handling\n",
        "df['Embarked'].isnull().mean() * 100"
      ],
      "metadata": {
        "id": "PBHz1fVRX03U",
        "outputId": "2dd1eddb-5920-44e2-8a29-83899279c353",
        "colab": {
          "base_uri": "https://localhost:8080/"
        }
      },
      "execution_count": 15,
      "outputs": [
        {
          "output_type": "execute_result",
          "data": {
            "text/plain": [
              "0.0"
            ]
          },
          "metadata": {},
          "execution_count": 15
        }
      ]
    },
    {
      "cell_type": "code",
      "source": [
        "df.to_csv(\"/content/drive/MyDrive/notnull_titanic\",index=False)"
      ],
      "metadata": {
        "id": "5UMgOsbnX49I",
        "outputId": "7c7b0954-740d-4a43-ab8d-6144bdab9bd9",
        "colab": {
          "base_uri": "https://localhost:8080/",
          "height": 339
        }
      },
      "execution_count": 16,
      "outputs": [
        {
          "output_type": "error",
          "ename": "IsADirectoryError",
          "evalue": "[Errno 21] Is a directory: '/content/drive/MyDrive/notnull_titanic'",
          "traceback": [
            "\u001b[0;31m---------------------------------------------------------------------------\u001b[0m",
            "\u001b[0;31mIsADirectoryError\u001b[0m                         Traceback (most recent call last)",
            "\u001b[0;32m<ipython-input-16-c7fda14d0512>\u001b[0m in \u001b[0;36m<cell line: 1>\u001b[0;34m()\u001b[0m\n\u001b[0;32m----> 1\u001b[0;31m \u001b[0mdf\u001b[0m\u001b[0;34m.\u001b[0m\u001b[0mto_csv\u001b[0m\u001b[0;34m(\u001b[0m\u001b[0;34m\"/content/drive/MyDrive/notnull_titanic\"\u001b[0m\u001b[0;34m,\u001b[0m\u001b[0mindex\u001b[0m\u001b[0;34m=\u001b[0m\u001b[0;32mFalse\u001b[0m\u001b[0;34m)\u001b[0m\u001b[0;34m\u001b[0m\u001b[0;34m\u001b[0m\u001b[0m\n\u001b[0m",
            "\u001b[0;32m/usr/local/lib/python3.10/dist-packages/pandas/core/generic.py\u001b[0m in \u001b[0;36mto_csv\u001b[0;34m(self, path_or_buf, sep, na_rep, float_format, columns, header, index, index_label, mode, encoding, compression, quoting, quotechar, lineterminator, chunksize, date_format, doublequote, escapechar, decimal, errors, storage_options)\u001b[0m\n\u001b[1;32m   3770\u001b[0m         )\n\u001b[1;32m   3771\u001b[0m \u001b[0;34m\u001b[0m\u001b[0m\n\u001b[0;32m-> 3772\u001b[0;31m         return DataFrameRenderer(formatter).to_csv(\n\u001b[0m\u001b[1;32m   3773\u001b[0m             \u001b[0mpath_or_buf\u001b[0m\u001b[0;34m,\u001b[0m\u001b[0;34m\u001b[0m\u001b[0;34m\u001b[0m\u001b[0m\n\u001b[1;32m   3774\u001b[0m             \u001b[0mlineterminator\u001b[0m\u001b[0;34m=\u001b[0m\u001b[0mlineterminator\u001b[0m\u001b[0;34m,\u001b[0m\u001b[0;34m\u001b[0m\u001b[0;34m\u001b[0m\u001b[0m\n",
            "\u001b[0;32m/usr/local/lib/python3.10/dist-packages/pandas/io/formats/format.py\u001b[0m in \u001b[0;36mto_csv\u001b[0;34m(self, path_or_buf, encoding, sep, columns, index_label, mode, compression, quoting, quotechar, lineterminator, chunksize, date_format, doublequote, escapechar, errors, storage_options)\u001b[0m\n\u001b[1;32m   1184\u001b[0m             \u001b[0mformatter\u001b[0m\u001b[0;34m=\u001b[0m\u001b[0mself\u001b[0m\u001b[0;34m.\u001b[0m\u001b[0mfmt\u001b[0m\u001b[0;34m,\u001b[0m\u001b[0;34m\u001b[0m\u001b[0;34m\u001b[0m\u001b[0m\n\u001b[1;32m   1185\u001b[0m         )\n\u001b[0;32m-> 1186\u001b[0;31m         \u001b[0mcsv_formatter\u001b[0m\u001b[0;34m.\u001b[0m\u001b[0msave\u001b[0m\u001b[0;34m(\u001b[0m\u001b[0;34m)\u001b[0m\u001b[0;34m\u001b[0m\u001b[0;34m\u001b[0m\u001b[0m\n\u001b[0m\u001b[1;32m   1187\u001b[0m \u001b[0;34m\u001b[0m\u001b[0m\n\u001b[1;32m   1188\u001b[0m         \u001b[0;32mif\u001b[0m \u001b[0mcreated_buffer\u001b[0m\u001b[0;34m:\u001b[0m\u001b[0;34m\u001b[0m\u001b[0;34m\u001b[0m\u001b[0m\n",
            "\u001b[0;32m/usr/local/lib/python3.10/dist-packages/pandas/io/formats/csvs.py\u001b[0m in \u001b[0;36msave\u001b[0;34m(self)\u001b[0m\n\u001b[1;32m    238\u001b[0m         \"\"\"\n\u001b[1;32m    239\u001b[0m         \u001b[0;31m# apply compression and byte/text conversion\u001b[0m\u001b[0;34m\u001b[0m\u001b[0;34m\u001b[0m\u001b[0m\n\u001b[0;32m--> 240\u001b[0;31m         with get_handle(\n\u001b[0m\u001b[1;32m    241\u001b[0m             \u001b[0mself\u001b[0m\u001b[0;34m.\u001b[0m\u001b[0mfilepath_or_buffer\u001b[0m\u001b[0;34m,\u001b[0m\u001b[0;34m\u001b[0m\u001b[0;34m\u001b[0m\u001b[0m\n\u001b[1;32m    242\u001b[0m             \u001b[0mself\u001b[0m\u001b[0;34m.\u001b[0m\u001b[0mmode\u001b[0m\u001b[0;34m,\u001b[0m\u001b[0;34m\u001b[0m\u001b[0;34m\u001b[0m\u001b[0m\n",
            "\u001b[0;32m/usr/local/lib/python3.10/dist-packages/pandas/io/common.py\u001b[0m in \u001b[0;36mget_handle\u001b[0;34m(path_or_buf, mode, encoding, compression, memory_map, is_text, errors, storage_options)\u001b[0m\n\u001b[1;32m    857\u001b[0m         \u001b[0;32mif\u001b[0m \u001b[0mioargs\u001b[0m\u001b[0;34m.\u001b[0m\u001b[0mencoding\u001b[0m \u001b[0;32mand\u001b[0m \u001b[0;34m\"b\"\u001b[0m \u001b[0;32mnot\u001b[0m \u001b[0;32min\u001b[0m \u001b[0mioargs\u001b[0m\u001b[0;34m.\u001b[0m\u001b[0mmode\u001b[0m\u001b[0;34m:\u001b[0m\u001b[0;34m\u001b[0m\u001b[0;34m\u001b[0m\u001b[0m\n\u001b[1;32m    858\u001b[0m             \u001b[0;31m# Encoding\u001b[0m\u001b[0;34m\u001b[0m\u001b[0;34m\u001b[0m\u001b[0m\n\u001b[0;32m--> 859\u001b[0;31m             handle = open(\n\u001b[0m\u001b[1;32m    860\u001b[0m                 \u001b[0mhandle\u001b[0m\u001b[0;34m,\u001b[0m\u001b[0;34m\u001b[0m\u001b[0;34m\u001b[0m\u001b[0m\n\u001b[1;32m    861\u001b[0m                 \u001b[0mioargs\u001b[0m\u001b[0;34m.\u001b[0m\u001b[0mmode\u001b[0m\u001b[0;34m,\u001b[0m\u001b[0;34m\u001b[0m\u001b[0;34m\u001b[0m\u001b[0m\n",
            "\u001b[0;31mIsADirectoryError\u001b[0m: [Errno 21] Is a directory: '/content/drive/MyDrive/notnull_titanic'"
          ]
        }
      ]
    },
    {
      "cell_type": "code",
      "source": [
        "from google.colab import drive\n",
        "drive.mount('/content/drive')"
      ],
      "metadata": {
        "id": "3Iq0FPTCZDpf",
        "outputId": "57b02e85-1884-4ea0-809c-2d99ab96a51b",
        "colab": {
          "base_uri": "https://localhost:8080/"
        }
      },
      "execution_count": 1,
      "outputs": [
        {
          "output_type": "stream",
          "name": "stdout",
          "text": [
            "Mounted at /content/drive\n"
          ]
        }
      ]
    }
  ]
}