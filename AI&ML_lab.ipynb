{
  "nbformat": 4,
  "nbformat_minor": 0,
  "metadata": {
    "colab": {
      "provenance": [],
      "mount_file_id": "https://github.com/sesidhar-7/sesidhar/blob/main/AI%26ML_lab.ipynb",
      "authorship_tag": "ABX9TyNJP2XxySwbJlloM8Oh5cmR",
      "include_colab_link": true
    },
    "kernelspec": {
      "name": "python3",
      "display_name": "Python 3"
    },
    "language_info": {
      "name": "python"
    }
  },
  "cells": [
    {
      "cell_type": "markdown",
      "metadata": {
        "id": "view-in-github",
        "colab_type": "text"
      },
      "source": [
        "<a href=\"https://colab.research.google.com/github/sesidhar-7/sesidhar/blob/main/AI%26ML_lab.ipynb\" target=\"_parent\"><img src=\"https://colab.research.google.com/assets/colab-badge.svg\" alt=\"Open In Colab\"/></a>"
      ]
    },
    {
      "cell_type": "code",
      "execution_count": null,
      "metadata": {
        "colab": {
          "base_uri": "https://localhost:8080/"
        },
        "id": "mV160U8cG1sz",
        "outputId": "23f3805a-dc33-49f4-92b4-f86c0020ba1a"
      },
      "outputs": [
        {
          "output_type": "stream",
          "name": "stdout",
          "text": [
            "   PassengerId  Survived  Pclass  \\\n",
            "0            1         0       3   \n",
            "1            2         1       1   \n",
            "2            3         1       3   \n",
            "3            4         1       1   \n",
            "4            5         0       3   \n",
            "\n",
            "                                                Name     Sex   Age  SibSp  \\\n",
            "0                            Braund, Mr. Owen Harris    male  22.0      1   \n",
            "1  Cumings, Mrs. John Bradley (Florence Briggs Th...  female  38.0      1   \n",
            "2                             Heikkinen, Miss. Laina  female  26.0      0   \n",
            "3       Futrelle, Mrs. Jacques Heath (Lily May Peel)  female  35.0      1   \n",
            "4                           Allen, Mr. William Henry    male  35.0      0   \n",
            "\n",
            "   Parch            Ticket     Fare Cabin Embarked  \n",
            "0      0         A/5 21171   7.2500   NaN        S  \n",
            "1      0          PC 17599  71.2833   C85        C  \n",
            "2      0  STON/O2. 3101282   7.9250   NaN        S  \n",
            "3      0            113803  53.1000  C123        S  \n",
            "4      0            373450   8.0500   NaN        S  \n"
          ]
        }
      ],
      "source": [
        "# importing all the necessary libraries\n",
        "import pandas as pd\n",
        "import numpy as np\n",
        "#we need to read the data\n",
        "data = pd.read_csv(\"/content/drive/MyDrive/train.csv\")\n",
        "#print top 5 rows\n",
        "print(data.head())"
      ]
    },
    {
      "cell_type": "code",
      "source": [
        "# function to calculate the lower and upperbound\n",
        "def detect_outliers(data,threshold):\n",
        "  mean = np.mean(data)\n",
        "  std =np.std(data)\n",
        "  lb = max(mean - (threshold * std),min(data))\n",
        "  ub = min(mean + (threshold * std),max(data))\n",
        "  return lb,ub\n",
        "df = data.copy()\n",
        "lb,ub = detect_outliers(data[\"Fare\"],4)\n",
        "# removing the rows which are greater than upperbound\n",
        "df.drop(df[df.Fare > ub].index, inplace=True)\n",
        "# removing the rows which are less than lowerbound\n",
        "df.drop(df[df.Fare < lb ].index, inplace=True)\n",
        "print(\"lb: \",lb,\"ub: \",ub)\n",
        "df.sort_values(by=\"Fare\",ascending=True,inplace=True)"
      ],
      "metadata": {
        "id": "SiNtA25eW51n",
        "outputId": "0f19ed0b-bf8e-411c-b1f9-3b81245ae8ca",
        "colab": {
          "base_uri": "https://localhost:8080/"
        }
      },
      "execution_count": null,
      "outputs": [
        {
          "output_type": "stream",
          "name": "stdout",
          "text": [
            "lb:  0.0 ub:  230.86634574767106\n"
          ]
        }
      ]
    },
    {
      "cell_type": "code",
      "source": [
        "print(df)"
      ],
      "metadata": {
        "id": "NWz-cE5rXPad",
        "outputId": "b6e45b18-a907-4f64-b32e-c7d54201cee3",
        "colab": {
          "base_uri": "https://localhost:8080/"
        }
      },
      "execution_count": null,
      "outputs": [
        {
          "output_type": "stream",
          "name": "stdout",
          "text": [
            "     PassengerId  Survived  Pclass  \\\n",
            "271          272         1       3   \n",
            "597          598         0       3   \n",
            "302          303         0       3   \n",
            "633          634         0       1   \n",
            "277          278         0       2   \n",
            "..           ...       ...     ...   \n",
            "527          528         0       1   \n",
            "716          717         1       1   \n",
            "380          381         1       1   \n",
            "557          558         0       1   \n",
            "700          701         1       1   \n",
            "\n",
            "                                                  Name     Sex   Age  SibSp  \\\n",
            "271                       Tornquist, Mr. William Henry    male  25.0      0   \n",
            "597                                Johnson, Mr. Alfred    male  49.0      0   \n",
            "302                    Johnson, Mr. William Cahoone Jr    male  19.0      0   \n",
            "633                      Parr, Mr. William Henry Marsh    male   NaN      0   \n",
            "277                        Parkes, Mr. Francis \"Frank\"    male   NaN      0   \n",
            "..                                                 ...     ...   ...    ...   \n",
            "527                                 Farthing, Mr. John    male   NaN      0   \n",
            "716                      Endres, Miss. Caroline Louise  female  38.0      0   \n",
            "380                              Bidois, Miss. Rosalie  female  42.0      0   \n",
            "557                                Robbins, Mr. Victor    male   NaN      0   \n",
            "700  Astor, Mrs. John Jacob (Madeleine Talmadge Force)  female  18.0      1   \n",
            "\n",
            "     Parch    Ticket      Fare    Cabin Embarked  \n",
            "271      0      LINE    0.0000      NaN        S  \n",
            "597      0      LINE    0.0000      NaN        S  \n",
            "302      0      LINE    0.0000      NaN        S  \n",
            "633      0    112052    0.0000      NaN        S  \n",
            "277      0    239853    0.0000      NaN        S  \n",
            "..     ...       ...       ...      ...      ...  \n",
            "527      0  PC 17483  221.7792      C95        S  \n",
            "716      0  PC 17757  227.5250      C45        C  \n",
            "380      0  PC 17757  227.5250      NaN        C  \n",
            "557      0  PC 17757  227.5250      NaN        C  \n",
            "700      0  PC 17757  227.5250  C62 C64        C  \n",
            "\n",
            "[880 rows x 12 columns]\n"
          ]
        }
      ]
    },
    {
      "cell_type": "code",
      "source": [
        "lb,ub = detect_outliers(data[\"Age\"],5)\n",
        "# removing the rows which are greater than upperbound\n",
        "df.drop(df[df.Age > ub].index, inplace=True)\n",
        "# removing the rows which are less than lowerbound\n",
        "df.drop(df[df.Age < lb].index, inplace=True)\n",
        "print(\"lb: \",lb,\"ub: \",ub)\n",
        "df.sort_values(by=\"Age\",ascending=False,inplace=True)"
      ],
      "metadata": {
        "id": "aHZk2IH0XQee",
        "outputId": "f30b387d-9064-47ec-abc7-3ffa1d9c97a6",
        "colab": {
          "base_uri": "https://localhost:8080/"
        }
      },
      "execution_count": null,
      "outputs": [
        {
          "output_type": "stream",
          "name": "stdout",
          "text": [
            "lb:  0.42 ub:  80.0\n"
          ]
        }
      ]
    },
    {
      "cell_type": "code",
      "source": [
        "print(df)"
      ],
      "metadata": {
        "id": "6TN4lO66XVG4",
        "outputId": "ffc39cdf-63a0-478e-8d33-42f0c951fdb5",
        "colab": {
          "base_uri": "https://localhost:8080/"
        }
      },
      "execution_count": null,
      "outputs": [
        {
          "output_type": "stream",
          "name": "stdout",
          "text": [
            "     PassengerId  Survived  Pclass  \\\n",
            "630          631         1       1   \n",
            "851          852         0       3   \n",
            "96            97         0       1   \n",
            "493          494         0       1   \n",
            "116          117         0       3   \n",
            "..           ...       ...     ...   \n",
            "306          307         1       1   \n",
            "334          335         1       1   \n",
            "31            32         1       1   \n",
            "527          528         0       1   \n",
            "557          558         0       1   \n",
            "\n",
            "                                                  Name     Sex   Age  SibSp  \\\n",
            "630               Barkworth, Mr. Algernon Henry Wilson    male  80.0      0   \n",
            "851                                Svensson, Mr. Johan    male  74.0      0   \n",
            "96                           Goldschmidt, Mr. George B    male  71.0      0   \n",
            "493                            Artagaveytia, Mr. Ramon    male  71.0      0   \n",
            "116                               Connors, Mr. Patrick    male  70.5      0   \n",
            "..                                                 ...     ...   ...    ...   \n",
            "306                            Fleming, Miss. Margaret  female   NaN      0   \n",
            "334  Frauenthal, Mrs. Henry William (Clara Heinshei...  female   NaN      1   \n",
            "31      Spencer, Mrs. William Augustus (Marie Eugenie)  female   NaN      1   \n",
            "527                                 Farthing, Mr. John    male   NaN      0   \n",
            "557                                Robbins, Mr. Victor    male   NaN      0   \n",
            "\n",
            "     Parch    Ticket      Fare Cabin Embarked  \n",
            "630      0     27042   30.0000   A23        S  \n",
            "851      0    347060    7.7750   NaN        S  \n",
            "96       0  PC 17754   34.6542    A5        C  \n",
            "493      0  PC 17609   49.5042   NaN        C  \n",
            "116      0    370369    7.7500   NaN        Q  \n",
            "..     ...       ...       ...   ...      ...  \n",
            "306      0     17421  110.8833   NaN        C  \n",
            "334      0  PC 17611  133.6500   NaN        S  \n",
            "31       0  PC 17569  146.5208   B78        C  \n",
            "527      0  PC 17483  221.7792   C95        S  \n",
            "557      0  PC 17757  227.5250   NaN        C  \n",
            "\n",
            "[880 rows x 12 columns]\n"
          ]
        }
      ]
    },
    {
      "cell_type": "code",
      "source": [
        "#printing the missing value percentage for every column\n",
        "df.isnull().mean() * 100"
      ],
      "metadata": {
        "id": "BcZ8YMCpXYse",
        "outputId": "98fd3128-01b1-4f98-b143-ada402ba9e0f",
        "colab": {
          "base_uri": "https://localhost:8080/"
        }
      },
      "execution_count": null,
      "outputs": [
        {
          "output_type": "execute_result",
          "data": {
            "text/plain": [
              "PassengerId     0.000000\n",
              "Survived        0.000000\n",
              "Pclass          0.000000\n",
              "Name            0.000000\n",
              "Sex             0.000000\n",
              "Age            20.113636\n",
              "SibSp           0.000000\n",
              "Parch           0.000000\n",
              "Ticket          0.000000\n",
              "Fare            0.000000\n",
              "Cabin          77.954545\n",
              "Embarked        0.227273\n",
              "dtype: float64"
            ]
          },
          "metadata": {},
          "execution_count": 8
        }
      ]
    },
    {
      "cell_type": "code",
      "source": [
        "# get all the column names in our dataset\n",
        "df.columns"
      ],
      "metadata": {
        "id": "GPan_9qaXcwQ",
        "outputId": "50da6b91-0f9f-4b17-c40e-d4d0de4c8509",
        "colab": {
          "base_uri": "https://localhost:8080/"
        }
      },
      "execution_count": null,
      "outputs": [
        {
          "output_type": "execute_result",
          "data": {
            "text/plain": [
              "Index(['PassengerId', 'Survived', 'Pclass', 'Name', 'Sex', 'Age', 'SibSp',\n",
              "       'Parch', 'Ticket', 'Fare', 'Cabin', 'Embarked'],\n",
              "      dtype='object')"
            ]
          },
          "metadata": {},
          "execution_count": 9
        }
      ]
    },
    {
      "cell_type": "code",
      "source": [
        "# As we can see cabin column has more than 30% of missing values, so we have to drop that column\n",
        "df.drop(['Cabin'],inplace=True,axis=1)\n",
        "# after removing the column cabin, printing the columns again. If you observe there is no Cabin in the output\n",
        "df.columns"
      ],
      "metadata": {
        "id": "kt-27rM7Xg2o",
        "outputId": "fc7f4868-276a-45eb-eac1-454550fc7228",
        "colab": {
          "base_uri": "https://localhost:8080/"
        }
      },
      "execution_count": null,
      "outputs": [
        {
          "output_type": "execute_result",
          "data": {
            "text/plain": [
              "Index(['PassengerId', 'Survived', 'Pclass', 'Name', 'Sex', 'Age', 'SibSp',\n",
              "       'Parch', 'Ticket', 'Fare', 'Embarked'],\n",
              "      dtype='object')"
            ]
          },
          "metadata": {},
          "execution_count": 10
        }
      ]
    },
    {
      "cell_type": "code",
      "source": [
        "#printing the percentage of missing values in Age before handling\n",
        "df['Age'].isnull().mean() * 100\n"
      ],
      "metadata": {
        "id": "-ldLq7yfXkvW",
        "outputId": "6a2ffd99-a50e-401f-ff33-cec6cad21a6d",
        "colab": {
          "base_uri": "https://localhost:8080/"
        }
      },
      "execution_count": null,
      "outputs": [
        {
          "output_type": "execute_result",
          "data": {
            "text/plain": [
              "20.113636363636363"
            ]
          },
          "metadata": {},
          "execution_count": 11
        }
      ]
    },
    {
      "cell_type": "code",
      "source": [
        "# Filling the missing values with the mean of respective column\n",
        "df['Age']=df['Age'].fillna(df['Age'].mean())"
      ],
      "metadata": {
        "id": "28IiUHMrXn6l"
      },
      "execution_count": null,
      "outputs": []
    },
    {
      "cell_type": "code",
      "source": [
        "#printing the percentage of missing values in Age after handling\n",
        "df['Age'].isnull().mean() * 100"
      ],
      "metadata": {
        "id": "xP2qr70TXr3X",
        "outputId": "3764c654-b98b-42cb-92f9-3cf90d48f14b",
        "colab": {
          "base_uri": "https://localhost:8080/"
        }
      },
      "execution_count": null,
      "outputs": [
        {
          "output_type": "execute_result",
          "data": {
            "text/plain": [
              "0.0"
            ]
          },
          "metadata": {},
          "execution_count": 13
        }
      ]
    },
    {
      "cell_type": "code",
      "source": [
        "#printing the percentage of missing values in Embarked before handling\n",
        "df['Embarked'].isnull().mean() * 100"
      ],
      "metadata": {
        "id": "LVl65_ouXufJ",
        "outputId": "10adc785-e622-4afc-90e0-6b2a8681f61f",
        "colab": {
          "base_uri": "https://localhost:8080/"
        }
      },
      "execution_count": null,
      "outputs": [
        {
          "output_type": "execute_result",
          "data": {
            "text/plain": [
              "0.22727272727272727"
            ]
          },
          "metadata": {},
          "execution_count": 14
        }
      ]
    },
    {
      "cell_type": "code",
      "source": [
        "# filling with filled with the most frequently occurring value.\n",
        "df[\"Embarked\"].fillna(df['Embarked'].mode()[0],inplace=True)\n",
        "#printing the percentage of missing values in Embarked after handling\n",
        "df['Embarked'].isnull().mean() * 100"
      ],
      "metadata": {
        "id": "PBHz1fVRX03U",
        "outputId": "2dd1eddb-5920-44e2-8a29-83899279c353",
        "colab": {
          "base_uri": "https://localhost:8080/"
        }
      },
      "execution_count": null,
      "outputs": [
        {
          "output_type": "execute_result",
          "data": {
            "text/plain": [
              "0.0"
            ]
          },
          "metadata": {},
          "execution_count": 15
        }
      ]
    },
    {
      "cell_type": "code",
      "source": [
        "df.to_csv(\"/content/drive/MyDrive/notnull_titanic\",index=False)"
      ],
      "metadata": {
        "id": "5UMgOsbnX49I",
        "outputId": "7c7b0954-740d-4a43-ab8d-6144bdab9bd9",
        "colab": {
          "base_uri": "https://localhost:8080/",
          "height": 339
        }
      },
      "execution_count": null,
      "outputs": [
        {
          "output_type": "error",
          "ename": "IsADirectoryError",
          "evalue": "[Errno 21] Is a directory: '/content/drive/MyDrive/notnull_titanic'",
          "traceback": [
            "\u001b[0;31m---------------------------------------------------------------------------\u001b[0m",
            "\u001b[0;31mIsADirectoryError\u001b[0m                         Traceback (most recent call last)",
            "\u001b[0;32m<ipython-input-16-c7fda14d0512>\u001b[0m in \u001b[0;36m<cell line: 1>\u001b[0;34m()\u001b[0m\n\u001b[0;32m----> 1\u001b[0;31m \u001b[0mdf\u001b[0m\u001b[0;34m.\u001b[0m\u001b[0mto_csv\u001b[0m\u001b[0;34m(\u001b[0m\u001b[0;34m\"/content/drive/MyDrive/notnull_titanic\"\u001b[0m\u001b[0;34m,\u001b[0m\u001b[0mindex\u001b[0m\u001b[0;34m=\u001b[0m\u001b[0;32mFalse\u001b[0m\u001b[0;34m)\u001b[0m\u001b[0;34m\u001b[0m\u001b[0;34m\u001b[0m\u001b[0m\n\u001b[0m",
            "\u001b[0;32m/usr/local/lib/python3.10/dist-packages/pandas/core/generic.py\u001b[0m in \u001b[0;36mto_csv\u001b[0;34m(self, path_or_buf, sep, na_rep, float_format, columns, header, index, index_label, mode, encoding, compression, quoting, quotechar, lineterminator, chunksize, date_format, doublequote, escapechar, decimal, errors, storage_options)\u001b[0m\n\u001b[1;32m   3770\u001b[0m         )\n\u001b[1;32m   3771\u001b[0m \u001b[0;34m\u001b[0m\u001b[0m\n\u001b[0;32m-> 3772\u001b[0;31m         return DataFrameRenderer(formatter).to_csv(\n\u001b[0m\u001b[1;32m   3773\u001b[0m             \u001b[0mpath_or_buf\u001b[0m\u001b[0;34m,\u001b[0m\u001b[0;34m\u001b[0m\u001b[0;34m\u001b[0m\u001b[0m\n\u001b[1;32m   3774\u001b[0m             \u001b[0mlineterminator\u001b[0m\u001b[0;34m=\u001b[0m\u001b[0mlineterminator\u001b[0m\u001b[0;34m,\u001b[0m\u001b[0;34m\u001b[0m\u001b[0;34m\u001b[0m\u001b[0m\n",
            "\u001b[0;32m/usr/local/lib/python3.10/dist-packages/pandas/io/formats/format.py\u001b[0m in \u001b[0;36mto_csv\u001b[0;34m(self, path_or_buf, encoding, sep, columns, index_label, mode, compression, quoting, quotechar, lineterminator, chunksize, date_format, doublequote, escapechar, errors, storage_options)\u001b[0m\n\u001b[1;32m   1184\u001b[0m             \u001b[0mformatter\u001b[0m\u001b[0;34m=\u001b[0m\u001b[0mself\u001b[0m\u001b[0;34m.\u001b[0m\u001b[0mfmt\u001b[0m\u001b[0;34m,\u001b[0m\u001b[0;34m\u001b[0m\u001b[0;34m\u001b[0m\u001b[0m\n\u001b[1;32m   1185\u001b[0m         )\n\u001b[0;32m-> 1186\u001b[0;31m         \u001b[0mcsv_formatter\u001b[0m\u001b[0;34m.\u001b[0m\u001b[0msave\u001b[0m\u001b[0;34m(\u001b[0m\u001b[0;34m)\u001b[0m\u001b[0;34m\u001b[0m\u001b[0;34m\u001b[0m\u001b[0m\n\u001b[0m\u001b[1;32m   1187\u001b[0m \u001b[0;34m\u001b[0m\u001b[0m\n\u001b[1;32m   1188\u001b[0m         \u001b[0;32mif\u001b[0m \u001b[0mcreated_buffer\u001b[0m\u001b[0;34m:\u001b[0m\u001b[0;34m\u001b[0m\u001b[0;34m\u001b[0m\u001b[0m\n",
            "\u001b[0;32m/usr/local/lib/python3.10/dist-packages/pandas/io/formats/csvs.py\u001b[0m in \u001b[0;36msave\u001b[0;34m(self)\u001b[0m\n\u001b[1;32m    238\u001b[0m         \"\"\"\n\u001b[1;32m    239\u001b[0m         \u001b[0;31m# apply compression and byte/text conversion\u001b[0m\u001b[0;34m\u001b[0m\u001b[0;34m\u001b[0m\u001b[0m\n\u001b[0;32m--> 240\u001b[0;31m         with get_handle(\n\u001b[0m\u001b[1;32m    241\u001b[0m             \u001b[0mself\u001b[0m\u001b[0;34m.\u001b[0m\u001b[0mfilepath_or_buffer\u001b[0m\u001b[0;34m,\u001b[0m\u001b[0;34m\u001b[0m\u001b[0;34m\u001b[0m\u001b[0m\n\u001b[1;32m    242\u001b[0m             \u001b[0mself\u001b[0m\u001b[0;34m.\u001b[0m\u001b[0mmode\u001b[0m\u001b[0;34m,\u001b[0m\u001b[0;34m\u001b[0m\u001b[0;34m\u001b[0m\u001b[0m\n",
            "\u001b[0;32m/usr/local/lib/python3.10/dist-packages/pandas/io/common.py\u001b[0m in \u001b[0;36mget_handle\u001b[0;34m(path_or_buf, mode, encoding, compression, memory_map, is_text, errors, storage_options)\u001b[0m\n\u001b[1;32m    857\u001b[0m         \u001b[0;32mif\u001b[0m \u001b[0mioargs\u001b[0m\u001b[0;34m.\u001b[0m\u001b[0mencoding\u001b[0m \u001b[0;32mand\u001b[0m \u001b[0;34m\"b\"\u001b[0m \u001b[0;32mnot\u001b[0m \u001b[0;32min\u001b[0m \u001b[0mioargs\u001b[0m\u001b[0;34m.\u001b[0m\u001b[0mmode\u001b[0m\u001b[0;34m:\u001b[0m\u001b[0;34m\u001b[0m\u001b[0;34m\u001b[0m\u001b[0m\n\u001b[1;32m    858\u001b[0m             \u001b[0;31m# Encoding\u001b[0m\u001b[0;34m\u001b[0m\u001b[0;34m\u001b[0m\u001b[0m\n\u001b[0;32m--> 859\u001b[0;31m             handle = open(\n\u001b[0m\u001b[1;32m    860\u001b[0m                 \u001b[0mhandle\u001b[0m\u001b[0;34m,\u001b[0m\u001b[0;34m\u001b[0m\u001b[0;34m\u001b[0m\u001b[0m\n\u001b[1;32m    861\u001b[0m                 \u001b[0mioargs\u001b[0m\u001b[0;34m.\u001b[0m\u001b[0mmode\u001b[0m\u001b[0;34m,\u001b[0m\u001b[0;34m\u001b[0m\u001b[0;34m\u001b[0m\u001b[0m\n",
            "\u001b[0;31mIsADirectoryError\u001b[0m: [Errno 21] Is a directory: '/content/drive/MyDrive/notnull_titanic'"
          ]
        }
      ]
    },
    {
      "cell_type": "code",
      "source": [
        "from google.colab import drive\n",
        "drive.mount('/content/drive')"
      ],
      "metadata": {
        "id": "3Iq0FPTCZDpf",
        "outputId": "57b02e85-1884-4ea0-809c-2d99ab96a51b",
        "colab": {
          "base_uri": "https://localhost:8080/"
        }
      },
      "execution_count": null,
      "outputs": [
        {
          "output_type": "stream",
          "name": "stdout",
          "text": [
            "Mounted at /content/drive\n"
          ]
        }
      ]
    },
    {
      "cell_type": "code",
      "source": [
        "#before starting with titanic data, consider example related to train_test_split\n",
        "import numpy as np\n",
        "from sklearn.model_selection import train_test_split\n",
        "X, y = np.arange(10).reshape((5, 2)), range(5)\n",
        "print(X)\n",
        "print(list(y))"
      ],
      "metadata": {
        "id": "JaXPTm3PlfnK",
        "outputId": "a0d2fb3b-81a2-4bd3-a075-049c37431855",
        "colab": {
          "base_uri": "https://localhost:8080/"
        }
      },
      "execution_count": 1,
      "outputs": [
        {
          "output_type": "stream",
          "name": "stdout",
          "text": [
            "[[0 1]\n",
            " [2 3]\n",
            " [4 5]\n",
            " [6 7]\n",
            " [8 9]]\n",
            "[0, 1, 2, 3, 4]\n"
          ]
        }
      ]
    },
    {
      "cell_type": "code",
      "source": [
        "#The train_test_split function is a powerful tool in Scikit-learn's arsenal, primarily used to divide datasets into training and testing\n",
        "#Basically, by setting the random_state , you guarantee that the (pseudo-) random number generator generates the same sequence of random\n",
        "#random_state can be any number between 0 to 4294967295\n",
        "X_train, X_test, y_train, y_test = train_test_split(\n",
        "X, y, test_size=0.33, random_state=41)\n",
        "print(X_train)\n",
        "print(y_train)\n",
        "print(X_test)\n",
        "print(y_test)"
      ],
      "metadata": {
        "id": "bacxQRlClmES",
        "outputId": "64e663b0-ad7e-48a2-aea5-b16528695f52",
        "colab": {
          "base_uri": "https://localhost:8080/"
        }
      },
      "execution_count": 2,
      "outputs": [
        {
          "output_type": "stream",
          "name": "stdout",
          "text": [
            "[[8 9]\n",
            " [6 7]\n",
            " [0 1]]\n",
            "[4, 3, 0]\n",
            "[[2 3]\n",
            " [4 5]]\n",
            "[1, 2]\n"
          ]
        }
      ]
    },
    {
      "cell_type": "code",
      "source": [
        "import pandas as pd\n",
        "data=pd.read_csv(\"/content/titanic6.csv\")\n",
        "data.info()"
      ],
      "metadata": {
        "id": "Mjx5kmoDlqYe",
        "outputId": "fc94b596-d3d4-4835-86d4-983e8e29d885",
        "colab": {
          "base_uri": "https://localhost:8080/"
        }
      },
      "execution_count": 4,
      "outputs": [
        {
          "output_type": "stream",
          "name": "stdout",
          "text": [
            "<class 'pandas.core.frame.DataFrame'>\n",
            "RangeIndex: 880 entries, 0 to 879\n",
            "Data columns (total 10 columns):\n",
            " #   Column      Non-Null Count  Dtype  \n",
            "---  ------      --------------  -----  \n",
            " 0   Unnamed: 0  880 non-null    int64  \n",
            " 1   Survived    880 non-null    float64\n",
            " 2   Pclass      880 non-null    float64\n",
            " 3   Age         880 non-null    float64\n",
            " 4   SibSp       880 non-null    float64\n",
            " 5   Parch       880 non-null    float64\n",
            " 6   Fare        880 non-null    float64\n",
            " 7   male        880 non-null    float64\n",
            " 8   Q           880 non-null    float64\n",
            " 9   S           880 non-null    float64\n",
            "dtypes: float64(9), int64(1)\n",
            "memory usage: 68.9 KB\n"
          ]
        }
      ]
    },
    {
      "cell_type": "code",
      "source": [
        "from sklearn.model_selection import train_test_split\n",
        "X_train, X_test, y_train, y_test = train_test_split(data.drop('Survived',axis=1),\n",
        "data['Survived'], test_size=0.30,\n",
        "random_state=101)\n",
        "print(X_train)\n",
        "print(y_train)\n",
        "print(X_test)\n",
        "print(y_test)"
      ],
      "metadata": {
        "id": "2BoiIyGjoMRO",
        "outputId": "26f191ec-511f-4079-a469-309d61e8365f",
        "colab": {
          "base_uri": "https://localhost:8080/"
        }
      },
      "execution_count": 5,
      "outputs": [
        {
          "output_type": "stream",
          "name": "stdout",
          "text": [
            "     Unnamed: 0  Pclass       Age  SibSp     Parch      Fare  male    Q    S\n",
            "636         636     1.0  0.132948  0.000  0.000000  0.082573   1.0  0.0  0.0\n",
            "779         779     1.0  0.367522  0.000  0.000000  0.034703   1.0  0.0  1.0\n",
            "799         799     1.0  0.367522  0.000  0.000000  0.037175   1.0  1.0  0.0\n",
            "266         266     0.5  0.396833  0.250  0.000000  0.323041   1.0  0.0  1.0\n",
            "590         590     0.5  0.208344  0.000  0.000000  0.046149   0.0  0.0  1.0\n",
            "..          ...     ...       ...    ...       ...       ...   ...  ...  ...\n",
            "575         575     1.0  0.220910  0.000  0.000000  0.032945   0.0  0.0  1.0\n",
            "838         838     1.0  0.367522  0.375  0.166667  0.111929   0.0  0.0  1.0\n",
            "337         337     0.0  0.359135  0.125  0.000000  0.292715   1.0  0.0  1.0\n",
            "523         523     1.0  0.258608  0.000  0.000000  0.037065   1.0  0.0  1.0\n",
            "863         863     1.0  0.367522  0.000  0.000000  0.248306   1.0  0.0  1.0\n",
            "\n",
            "[616 rows x 9 columns]\n",
            "636    0.0\n",
            "779    0.0\n",
            "799    0.0\n",
            "266    0.0\n",
            "590    1.0\n",
            "      ... \n",
            "575    1.0\n",
            "838    0.0\n",
            "337    0.0\n",
            "523    0.0\n",
            "863    1.0\n",
            "Name: Survived, Length: 616, dtype: float64\n",
            "     Unnamed: 0  Pclass       Age  SibSp     Parch      Fare  male    Q    S\n",
            "408         408     1.0  0.308872  0.000  0.000000  0.033623   1.0  0.0  1.0\n",
            "423         423     0.0  0.308872  0.125  0.333333  0.666081   0.0  0.0  1.0\n",
            "16           16     0.0  0.773813  0.000  0.000000  0.116690   1.0  0.0  1.0\n",
            "141         141     0.5  0.509927  0.000  0.166667  0.085705   0.0  0.0  1.0\n",
            "617         617     1.0  0.195778  0.000  0.000000  0.034172   1.0  0.0  1.0\n",
            "..          ...     ...       ...    ...       ...       ...   ...  ...  ...\n",
            "257         257     1.0  0.409399  0.375  0.000000  0.069663   0.0  0.0  1.0\n",
            "39           39     0.0  0.685851  0.000  0.000000  0.134051   1.0  0.0  1.0\n",
            "234         234     0.5  0.421965  0.000  0.000000  0.046149   0.0  0.0  1.0\n",
            "379         379     0.5  0.334004  0.000  0.000000  0.057137   1.0  0.0  1.0\n",
            "813         813     1.0  0.367522  0.125  0.166667  0.067007   1.0  0.0  0.0\n",
            "\n",
            "[264 rows x 9 columns]\n",
            "408    0.0\n",
            "423    0.0\n",
            "16     0.0\n",
            "141    1.0\n",
            "617    0.0\n",
            "      ... \n",
            "257    1.0\n",
            "39     0.0\n",
            "234    1.0\n",
            "379    0.0\n",
            "813    1.0\n",
            "Name: Survived, Length: 264, dtype: float64\n"
          ]
        }
      ]
    },
    {
      "cell_type": "code",
      "source": [
        "#remove unnamed:0\n",
        "X_train.drop(\"Unnamed: 0\", axis=1, inplace=True)\n",
        "X_test.drop(\"Unnamed: 0\", axis=1, inplace=True)\n",
        "print(X_train)\n",
        "print(X_test)\n",
        "print(y_train)\n",
        "print(y_test)"
      ],
      "metadata": {
        "id": "SnenlqyPoRmX",
        "outputId": "66cd67d7-ab62-42ad-a1f4-1d18cd6d1154",
        "colab": {
          "base_uri": "https://localhost:8080/"
        }
      },
      "execution_count": 6,
      "outputs": [
        {
          "output_type": "stream",
          "name": "stdout",
          "text": [
            "     Pclass       Age  SibSp     Parch      Fare  male    Q    S\n",
            "636     1.0  0.132948  0.000  0.000000  0.082573   1.0  0.0  0.0\n",
            "779     1.0  0.367522  0.000  0.000000  0.034703   1.0  0.0  1.0\n",
            "799     1.0  0.367522  0.000  0.000000  0.037175   1.0  1.0  0.0\n",
            "266     0.5  0.396833  0.250  0.000000  0.323041   1.0  0.0  1.0\n",
            "590     0.5  0.208344  0.000  0.000000  0.046149   0.0  0.0  1.0\n",
            "..      ...       ...    ...       ...       ...   ...  ...  ...\n",
            "575     1.0  0.220910  0.000  0.000000  0.032945   0.0  0.0  1.0\n",
            "838     1.0  0.367522  0.375  0.166667  0.111929   0.0  0.0  1.0\n",
            "337     0.0  0.359135  0.125  0.000000  0.292715   1.0  0.0  1.0\n",
            "523     1.0  0.258608  0.000  0.000000  0.037065   1.0  0.0  1.0\n",
            "863     1.0  0.367522  0.000  0.000000  0.248306   1.0  0.0  1.0\n",
            "\n",
            "[616 rows x 8 columns]\n",
            "     Pclass       Age  SibSp     Parch      Fare  male    Q    S\n",
            "408     1.0  0.308872  0.000  0.000000  0.033623   1.0  0.0  1.0\n",
            "423     0.0  0.308872  0.125  0.333333  0.666081   0.0  0.0  1.0\n",
            "16      0.0  0.773813  0.000  0.000000  0.116690   1.0  0.0  1.0\n",
            "141     0.5  0.509927  0.000  0.166667  0.085705   0.0  0.0  1.0\n",
            "617     1.0  0.195778  0.000  0.000000  0.034172   1.0  0.0  1.0\n",
            "..      ...       ...    ...       ...       ...   ...  ...  ...\n",
            "257     1.0  0.409399  0.375  0.000000  0.069663   0.0  0.0  1.0\n",
            "39      0.0  0.685851  0.000  0.000000  0.134051   1.0  0.0  1.0\n",
            "234     0.5  0.421965  0.000  0.000000  0.046149   0.0  0.0  1.0\n",
            "379     0.5  0.334004  0.000  0.000000  0.057137   1.0  0.0  1.0\n",
            "813     1.0  0.367522  0.125  0.166667  0.067007   1.0  0.0  0.0\n",
            "\n",
            "[264 rows x 8 columns]\n",
            "636    0.0\n",
            "779    0.0\n",
            "799    0.0\n",
            "266    0.0\n",
            "590    1.0\n",
            "      ... \n",
            "575    1.0\n",
            "838    0.0\n",
            "337    0.0\n",
            "523    0.0\n",
            "863    1.0\n",
            "Name: Survived, Length: 616, dtype: float64\n",
            "408    0.0\n",
            "423    0.0\n",
            "16     0.0\n",
            "141    1.0\n",
            "617    0.0\n",
            "      ... \n",
            "257    1.0\n",
            "39     0.0\n",
            "234    1.0\n",
            "379    0.0\n",
            "813    1.0\n",
            "Name: Survived, Length: 264, dtype: float64\n"
          ]
        }
      ]
    },
    {
      "cell_type": "code",
      "source": [
        "from sklearn.linear_model import LogisticRegression\n",
        "# Build the Model.\n",
        "logmodel = LogisticRegression()\n",
        "logmodel.fit(X_train,y_train)"
      ],
      "metadata": {
        "id": "S68nfrc4oWVe",
        "outputId": "f092c754-7dfe-42f0-caa5-7a127d2465c9",
        "colab": {
          "base_uri": "https://localhost:8080/",
          "height": 74
        }
      },
      "execution_count": 7,
      "outputs": [
        {
          "output_type": "execute_result",
          "data": {
            "text/plain": [
              "LogisticRegression()"
            ],
            "text/html": [
              "<style>#sk-container-id-1 {color: black;background-color: white;}#sk-container-id-1 pre{padding: 0;}#sk-container-id-1 div.sk-toggleable {background-color: white;}#sk-container-id-1 label.sk-toggleable__label {cursor: pointer;display: block;width: 100%;margin-bottom: 0;padding: 0.3em;box-sizing: border-box;text-align: center;}#sk-container-id-1 label.sk-toggleable__label-arrow:before {content: \"▸\";float: left;margin-right: 0.25em;color: #696969;}#sk-container-id-1 label.sk-toggleable__label-arrow:hover:before {color: black;}#sk-container-id-1 div.sk-estimator:hover label.sk-toggleable__label-arrow:before {color: black;}#sk-container-id-1 div.sk-toggleable__content {max-height: 0;max-width: 0;overflow: hidden;text-align: left;background-color: #f0f8ff;}#sk-container-id-1 div.sk-toggleable__content pre {margin: 0.2em;color: black;border-radius: 0.25em;background-color: #f0f8ff;}#sk-container-id-1 input.sk-toggleable__control:checked~div.sk-toggleable__content {max-height: 200px;max-width: 100%;overflow: auto;}#sk-container-id-1 input.sk-toggleable__control:checked~label.sk-toggleable__label-arrow:before {content: \"▾\";}#sk-container-id-1 div.sk-estimator input.sk-toggleable__control:checked~label.sk-toggleable__label {background-color: #d4ebff;}#sk-container-id-1 div.sk-label input.sk-toggleable__control:checked~label.sk-toggleable__label {background-color: #d4ebff;}#sk-container-id-1 input.sk-hidden--visually {border: 0;clip: rect(1px 1px 1px 1px);clip: rect(1px, 1px, 1px, 1px);height: 1px;margin: -1px;overflow: hidden;padding: 0;position: absolute;width: 1px;}#sk-container-id-1 div.sk-estimator {font-family: monospace;background-color: #f0f8ff;border: 1px dotted black;border-radius: 0.25em;box-sizing: border-box;margin-bottom: 0.5em;}#sk-container-id-1 div.sk-estimator:hover {background-color: #d4ebff;}#sk-container-id-1 div.sk-parallel-item::after {content: \"\";width: 100%;border-bottom: 1px solid gray;flex-grow: 1;}#sk-container-id-1 div.sk-label:hover label.sk-toggleable__label {background-color: #d4ebff;}#sk-container-id-1 div.sk-serial::before {content: \"\";position: absolute;border-left: 1px solid gray;box-sizing: border-box;top: 0;bottom: 0;left: 50%;z-index: 0;}#sk-container-id-1 div.sk-serial {display: flex;flex-direction: column;align-items: center;background-color: white;padding-right: 0.2em;padding-left: 0.2em;position: relative;}#sk-container-id-1 div.sk-item {position: relative;z-index: 1;}#sk-container-id-1 div.sk-parallel {display: flex;align-items: stretch;justify-content: center;background-color: white;position: relative;}#sk-container-id-1 div.sk-item::before, #sk-container-id-1 div.sk-parallel-item::before {content: \"\";position: absolute;border-left: 1px solid gray;box-sizing: border-box;top: 0;bottom: 0;left: 50%;z-index: -1;}#sk-container-id-1 div.sk-parallel-item {display: flex;flex-direction: column;z-index: 1;position: relative;background-color: white;}#sk-container-id-1 div.sk-parallel-item:first-child::after {align-self: flex-end;width: 50%;}#sk-container-id-1 div.sk-parallel-item:last-child::after {align-self: flex-start;width: 50%;}#sk-container-id-1 div.sk-parallel-item:only-child::after {width: 0;}#sk-container-id-1 div.sk-dashed-wrapped {border: 1px dashed gray;margin: 0 0.4em 0.5em 0.4em;box-sizing: border-box;padding-bottom: 0.4em;background-color: white;}#sk-container-id-1 div.sk-label label {font-family: monospace;font-weight: bold;display: inline-block;line-height: 1.2em;}#sk-container-id-1 div.sk-label-container {text-align: center;}#sk-container-id-1 div.sk-container {/* jupyter's `normalize.less` sets `[hidden] { display: none; }` but bootstrap.min.css set `[hidden] { display: none !important; }` so we also need the `!important` here to be able to override the default hidden behavior on the sphinx rendered scikit-learn.org. See: https://github.com/scikit-learn/scikit-learn/issues/21755 */display: inline-block !important;position: relative;}#sk-container-id-1 div.sk-text-repr-fallback {display: none;}</style><div id=\"sk-container-id-1\" class=\"sk-top-container\"><div class=\"sk-text-repr-fallback\"><pre>LogisticRegression()</pre><b>In a Jupyter environment, please rerun this cell to show the HTML representation or trust the notebook. <br />On GitHub, the HTML representation is unable to render, please try loading this page with nbviewer.org.</b></div><div class=\"sk-container\" hidden><div class=\"sk-item\"><div class=\"sk-estimator sk-toggleable\"><input class=\"sk-toggleable__control sk-hidden--visually\" id=\"sk-estimator-id-1\" type=\"checkbox\" checked><label for=\"sk-estimator-id-1\" class=\"sk-toggleable__label sk-toggleable__label-arrow\">LogisticRegression</label><div class=\"sk-toggleable__content\"><pre>LogisticRegression()</pre></div></div></div></div></div>"
            ]
          },
          "metadata": {},
          "execution_count": 7
        }
      ]
    },
    {
      "cell_type": "code",
      "source": [],
      "metadata": {
        "id": "gw7y_aVQoc-6"
      },
      "execution_count": null,
      "outputs": []
    },
    {
      "cell_type": "code",
      "source": [
        "print(\"Predicting the model on the test set\")\n",
        "predicted = logmodel.predict(X_test)"
      ],
      "metadata": {
        "id": "MzzxIrs0oX4e",
        "outputId": "315eb9d8-d189-4043-d9a5-aa2222abc1ff",
        "colab": {
          "base_uri": "https://localhost:8080/"
        }
      },
      "execution_count": 8,
      "outputs": [
        {
          "output_type": "stream",
          "name": "stdout",
          "text": [
            "Predicting the model on the test set\n"
          ]
        }
      ]
    },
    {
      "cell_type": "code",
      "source": [
        "print(\"predicted result !\")\n",
        "predicted"
      ],
      "metadata": {
        "id": "toxhC4rnod86",
        "outputId": "1ff2d653-6f6a-4e4a-f1cd-c1a3080eee23",
        "colab": {
          "base_uri": "https://localhost:8080/"
        }
      },
      "execution_count": 9,
      "outputs": [
        {
          "output_type": "stream",
          "name": "stdout",
          "text": [
            "predicted result !\n"
          ]
        },
        {
          "output_type": "execute_result",
          "data": {
            "text/plain": [
              "array([0., 1., 0., 1., 0., 0., 1., 0., 0., 0., 1., 1., 0., 0., 0., 0., 0.,\n",
              "       1., 0., 0., 0., 1., 0., 1., 1., 0., 1., 0., 0., 1., 0., 1., 0., 0.,\n",
              "       0., 0., 0., 0., 0., 1., 0., 0., 1., 1., 0., 0., 1., 0., 0., 0., 1.,\n",
              "       0., 1., 0., 0., 0., 0., 0., 0., 0., 0., 0., 1., 0., 0., 0., 1., 0.,\n",
              "       1., 1., 0., 1., 0., 1., 0., 0., 0., 0., 0., 0., 0., 0., 1., 0., 0.,\n",
              "       1., 0., 0., 1., 0., 0., 0., 0., 1., 1., 0., 0., 0., 0., 0., 0., 0.,\n",
              "       0., 1., 0., 0., 0., 1., 0., 1., 0., 0., 0., 1., 0., 0., 0., 1., 0.,\n",
              "       0., 0., 0., 0., 0., 1., 0., 0., 0., 1., 0., 0., 0., 1., 0., 0., 0.,\n",
              "       0., 0., 0., 0., 0., 0., 0., 0., 1., 0., 0., 0., 1., 0., 1., 0., 1.,\n",
              "       1., 0., 0., 0., 1., 1., 0., 0., 0., 0., 1., 0., 0., 1., 0., 1., 0.,\n",
              "       0., 0., 0., 1., 0., 1., 0., 0., 0., 0., 1., 0., 1., 1., 0., 1., 0.,\n",
              "       0., 1., 1., 0., 1., 0., 0., 0., 1., 0., 0., 0., 0., 0., 1., 1., 0.,\n",
              "       0., 0., 0., 0., 0., 0., 1., 0., 0., 0., 0., 0., 1., 0., 1., 0., 0.,\n",
              "       0., 0., 0., 1., 0., 0., 0., 1., 0., 0., 0., 0., 0., 0., 0., 0., 0.,\n",
              "       0., 0., 1., 0., 1., 0., 0., 1., 0., 0., 1., 0., 1., 0., 0., 0., 1.,\n",
              "       1., 0., 0., 1., 0., 0., 1., 0., 0.])"
            ]
          },
          "metadata": {},
          "execution_count": 9
        }
      ]
    },
    {
      "cell_type": "code",
      "source": [
        "#confusion matrix\n",
        "from sklearn.metrics import confusion_matrix, ConfusionMatrixDisplay\n",
        "from matplotlib import pyplot as plt\n",
        "matrix=confusion_matrix(y_test, predicted)\n",
        "print(matrix)\n",
        "disp = ConfusionMatrixDisplay(confusion_matrix=matrix)\n",
        "# Then just plot it:\n",
        "disp.plot()\n",
        "# And show it:\n",
        "plt.show()"
      ],
      "metadata": {
        "id": "S-5BebgPokTb",
        "outputId": "b3ed97b2-bc64-4a11-8f30-2d4b85cc85a2",
        "colab": {
          "base_uri": "https://localhost:8080/",
          "height": 484
        }
      },
      "execution_count": 10,
      "outputs": [
        {
          "output_type": "stream",
          "name": "stdout",
          "text": [
            "[[155  18]\n",
            " [ 36  55]]\n"
          ]
        },
        {
          "output_type": "display_data",
          "data": {
            "text/plain": [
              "<Figure size 640x480 with 2 Axes>"
            ],
            "image/png": "[encoded data removed]"
          },
          "metadata": {}
        }
      ]
    },
    {
      "cell_type": "code",
      "source": [
        "# with reference to Predicted Label (1-P(positive), 0-N(Negative)),\n",
        "# now we will check whether predicted Label N is true/false with True label.\n",
        "# if true label is 0, then predicted Label N, is True. This is represented as TN\n",
        "# if true label is 1, then predicted Label N, is False. This is represented as FN\n",
        "# TN FP\n",
        "# FN TP\n",
        "# Precision Score =TP/(TP+FP)=55/(55+18)\n",
        "from sklearn.metrics import precision_score\n",
        "print(\"Precision Score\",precision_score(y_test,predicted))\n"
      ],
      "metadata": {
        "id": "2K5KTVA9o4lm",
        "outputId": "bd399479-5e90-48ad-e13d-45a2eeafa4ba",
        "colab": {
          "base_uri": "https://localhost:8080/"
        }
      },
      "execution_count": 12,
      "outputs": [
        {
          "output_type": "stream",
          "name": "stdout",
          "text": [
            "Precision Score 0.7534246575342466\n"
          ]
        }
      ]
    },
    {
      "cell_type": "code",
      "source": [
        "# Recall Score=TP/(TP+FN)=55/(55+36)\n",
        "from sklearn.metrics import recall_score\n",
        "print(\"recall score\",recall_score(y_test,predicted))"
      ],
      "metadata": {
        "id": "XSmV4cW-pGDo",
        "outputId": "b2b7c2b3-900a-4b99-edb2-b8a8452e1ad3",
        "colab": {
          "base_uri": "https://localhost:8080/"
        }
      },
      "execution_count": 14,
      "outputs": [
        {
          "output_type": "stream",
          "name": "stdout",
          "text": [
            "recall score 0.6043956043956044\n"
          ]
        }
      ]
    },
    {
      "cell_type": "code",
      "source": [
        "# F1 Score=2*precision*recall/(precision+recall)=2*0.75*0.604/(0.75+0.604)\n",
        "from sklearn.metrics import f1_score\n",
        "print(\"f1 score\",f1_score(y_test,predicted))"
      ],
      "metadata": {
        "id": "gcy6jHAVpKyg",
        "outputId": "74f580d9-9866-42ce-9a7d-8e18c66988c3",
        "colab": {
          "base_uri": "https://localhost:8080/"
        }
      },
      "execution_count": 15,
      "outputs": [
        {
          "output_type": "stream",
          "name": "stdout",
          "text": [
            "f1 score 0.6707317073170731\n"
          ]
        }
      ]
    },
    {
      "cell_type": "code",
      "source": [
        "# metrics are used to find accuracy or error\n",
        "#Accuracy=(TP+TN)/(TP+TN+FP+FN)\n",
        "from sklearn import metrics\n",
        "# using metrics module for accuracy calculation\n",
        "print(\"ACCURACY of Logistic Regression Model: \", metrics.accuracy_score(y_test, predicted))"
      ],
      "metadata": {
        "id": "xWKV9OAdpP9x",
        "outputId": "15e721b1-d2a4-4575-fea9-1b9de86fd0c7",
        "colab": {
          "base_uri": "https://localhost:8080/"
        }
      },
      "execution_count": 16,
      "outputs": [
        {
          "output_type": "stream",
          "name": "stdout",
          "text": [
            "ACCURACY of Logistic Regression Model:  0.7954545454545454\n"
          ]
        }
      ]
    },
    {
      "cell_type": "code",
      "source": [
        "# importing random forest classifier from assemble module\n",
        "from sklearn.ensemble import RandomForestClassifier\n",
        "# creating a RF classifier\n",
        "clf = RandomForestClassifier(n_estimators = 100)\n",
        "# Training the model on the training dataset\n",
        "# fit function is used to train the model using the training sets as parameters\n",
        "clf.fit(X_train, y_train)\n",
        "# performing predictions on the test dataset\n",
        "y_pred = clf.predict(X_test)\n",
        "#confusion matrix\n",
        "from sklearn.metrics import confusion_matrix, classification_report\n",
        "print(confusion_matrix(y_test, y_pred))"
      ],
      "metadata": {
        "id": "qOBOEbXTpVGq",
        "outputId": "e446eb33-7474-4fc5-c12d-a17f33fa5e64",
        "colab": {
          "base_uri": "https://localhost:8080/"
        }
      },
      "execution_count": 17,
      "outputs": [
        {
          "output_type": "stream",
          "name": "stdout",
          "text": [
            "[[149  24]\n",
            " [ 36  55]]\n"
          ]
        }
      ]
    },
    {
      "cell_type": "code",
      "source": [
        "# Precision Score\n",
        "from sklearn.metrics import precision_score\n",
        "print(\"Precision Score\",precision_score(y_test,y_pred))"
      ],
      "metadata": {
        "id": "FryYMtYDpYgp",
        "outputId": "bd8109c0-7832-4e50-efb0-991a1c625aad",
        "colab": {
          "base_uri": "https://localhost:8080/"
        }
      },
      "execution_count": 18,
      "outputs": [
        {
          "output_type": "stream",
          "name": "stdout",
          "text": [
            "Precision Score 0.6962025316455697\n"
          ]
        }
      ]
    },
    {
      "cell_type": "code",
      "source": [
        "# Recall Score\n",
        "from sklearn.metrics import recall_score\n",
        "print(\"recall score\",recall_score(y_test,y_pred))"
      ],
      "metadata": {
        "id": "JIKR_NqPpcHo",
        "outputId": "df825c12-aad7-4ed3-a702-371c5c6d42dd",
        "colab": {
          "base_uri": "https://localhost:8080/"
        }
      },
      "execution_count": 19,
      "outputs": [
        {
          "output_type": "stream",
          "name": "stdout",
          "text": [
            "recall score 0.6043956043956044\n"
          ]
        }
      ]
    },
    {
      "cell_type": "code",
      "source": [
        "# F1 Score\n",
        "from sklearn.metrics import f1_score\n",
        "print(\"f1 score\",f1_score(y_test,y_pred))"
      ],
      "metadata": {
        "id": "HOYVl5kWpif_",
        "outputId": "c9765482-1c6b-483f-ceb4-1bb58924dc74",
        "colab": {
          "base_uri": "https://localhost:8080/"
        }
      },
      "execution_count": 20,
      "outputs": [
        {
          "output_type": "stream",
          "name": "stdout",
          "text": [
            "f1 score 0.6470588235294118\n"
          ]
        }
      ]
    },
    {
      "cell_type": "code",
      "source": [
        "# Classification report\n",
        "from sklearn.metrics import classification_report\n",
        "print(classification_report(y_test,y_pred))"
      ],
      "metadata": {
        "id": "OuQgvbNXplN-",
        "outputId": "fde54e1c-66fa-4282-de90-8ca65d6dc4e0",
        "colab": {
          "base_uri": "https://localhost:8080/"
        }
      },
      "execution_count": 21,
      "outputs": [
        {
          "output_type": "stream",
          "name": "stdout",
          "text": [
            "              precision    recall  f1-score   support\n",
            "\n",
            "         0.0       0.81      0.86      0.83       173\n",
            "         1.0       0.70      0.60      0.65        91\n",
            "\n",
            "    accuracy                           0.77       264\n",
            "   macro avg       0.75      0.73      0.74       264\n",
            "weighted avg       0.77      0.77      0.77       264\n",
            "\n"
          ]
        }
      ]
    },
    {
      "cell_type": "code",
      "source": [
        "# metrics are used to find accuracy or error\n",
        "from sklearn import metrics\n",
        "# using metrics module for accuracy calculation\n",
        "print(\"ACCURACY of Random Forest Classifier Model: \", metrics.accuracy_score(y_test, y_pred))"
      ],
      "metadata": {
        "id": "K8ilHgeMpozk",
        "outputId": "2202a1a4-402e-435b-c51f-3583d9165769",
        "colab": {
          "base_uri": "https://localhost:8080/"
        }
      },
      "execution_count": 22,
      "outputs": [
        {
          "output_type": "stream",
          "name": "stdout",
          "text": [
            "ACCURACY of Random Forest Classifier Model:  0.7727272727272727\n"
          ]
        }
      ]
    }
  ]
}